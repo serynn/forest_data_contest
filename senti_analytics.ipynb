{
 "cells": [
  {
   "cell_type": "markdown",
   "id": "4f213833",
   "metadata": {},
   "source": [
    "# 산림청 공공 빅데이터 공모전\n",
    "-----\n",
    "감성 분석 알고리즘<br>\n",
    "작성자: 김기범"
   ]
  },
  {
   "cell_type": "code",
   "execution_count": 86,
   "id": "9b414079",
   "metadata": {},
   "outputs": [],
   "source": [
    "def read_data(filename, encoding='cp949'):\n",
    "    with open(filename, 'r', encoding=encoding) as f:\n",
    "        data = [line.split('t') for line in f.read().splitlines()]\n",
    "        \n",
    "    return data\n",
    "\n",
    "def write_data(data, filename, encoding='cp949'):\n",
    "    with open(filename, 'w', encoding=encoding) as f:\n",
    "        result = \"\"\n",
    "        for d in data:\n",
    "            sentence = ' '.join(d)\n",
    "            result += sentence + \".\\n\"\n",
    "        f.write(result)\n",
    "\n",
    "positive = read_data('./data/positive.txt')\n",
    "negative = read_data('./data/negative.txt')"
   ]
  },
  {
   "cell_type": "code",
   "execution_count": 70,
   "id": "bd40c662",
   "metadata": {},
   "outputs": [],
   "source": [
    "import pandas as pd\n",
    "\n",
    "data = pd.read_csv('./data/naver_band_100mountain_scroll5.csv')"
   ]
  },
  {
   "cell_type": "code",
   "execution_count": 71,
   "id": "5e90aa9e",
   "metadata": {},
   "outputs": [
    {
     "name": "stdout",
     "output_type": "stream",
     "text": [
      "<class 'pandas.core.frame.DataFrame'>\n",
      "8511\n",
      "Index(['Unnamed: 0', 'name', 'date', 'content'], dtype='object')\n"
     ]
    }
   ],
   "source": [
    "print(type(data))\n",
    "print(len(data))\n",
    "print(data.keys())"
   ]
  },
  {
   "cell_type": "code",
   "execution_count": 72,
   "id": "86968206",
   "metadata": {},
   "outputs": [
    {
     "name": "stdout",
     "output_type": "stream",
     "text": [
      "8511\n",
      "sample data for arr>>\n",
      "#출석부 #정산 2022.06.07.화욜.오늘은 말이쥬~출석부에,어제 가리산 결산에,오늘 구름산 결산까지를올려야해서....그래서 한번에 쭈~욱 갑니다.이해좀부탁드려욥^^①가리산결산16명참석에 한명 현지참석(회비면제)리딩자제외 15명×35.000=525.000지출 버스비 350.000        입장료.주차료 38.000525.000-388.000=137.000남은 137.000중 130.000원을상우대장주고 뒷풀 비용중 190.000원정도를 보태서 상우가 계산해주셨습니다.너무 많은 금액을부담시켜 미안해~상우야 ^^남은 7.000원 기금으로 입금합니다.②구름산 결산18명참석해서 지출비만큼 적당히거출해서 1차계산을 마쳤는데,다시 추가된 금액 35.000원 총대장이계산해서 남은 금액이 없어요 ㅡㅡ;;③출석부연휴는 잘들 보내셨나효~?^^어떻게,뭐함서 보내셨으효~?^^좋은데 다녀왔음 자랑좀 해봐주세효^^\n"
     ]
    }
   ],
   "source": [
    "data_content = [data['content'].iloc[i] for i in range(len(data))]\n",
    "\n",
    "print(len(data_content))\n",
    "print(\"sample data for arr>>\")\n",
    "print(data_content[0])"
   ]
  },
  {
   "cell_type": "code",
   "execution_count": 73,
   "id": "e6d0ae8c",
   "metadata": {},
   "outputs": [
    {
     "name": "stdout",
     "output_type": "stream",
     "text": [
      "sample data for dataframe >>\n",
      "#출석부 #정산 2022.06.07.화욜.오늘은 말이쥬~출석부에,어제 가리산 결산에,오늘 구름산 결산까지를올려야해서....그래서 한번에 쭈~욱 갑니다.이해좀부탁드려욥^^①가리산결산16명참석에 한명 현지참석(회비면제)리딩자제외 15명×35.000=525.000지출 버스비 350.000        입장료.주차료 38.000525.000-388.000=137.000남은 137.000중 130.000원을상우대장주고 뒷풀 비용중 190.000원정도를 보태서 상우가 계산해주셨습니다.너무 많은 금액을부담시켜 미안해~상우야 ^^남은 7.000원 기금으로 입금합니다.②구름산 결산18명참석해서 지출비만큼 적당히거출해서 1차계산을 마쳤는데,다시 추가된 금액 35.000원 총대장이계산해서 남은 금액이 없어요 ㅡㅡ;;③출석부연휴는 잘들 보내셨나효~?^^어떻게,뭐함서 보내셨으효~?^^좋은데 다녀왔음 자랑좀 해봐주세효^^\n"
     ]
    }
   ],
   "source": [
    "print(\"sample data for dataframe >>\")\n",
    "print(data['content'].iloc[0])"
   ]
  },
  {
   "cell_type": "code",
   "execution_count": 74,
   "id": "2aab3314",
   "metadata": {},
   "outputs": [
    {
     "name": "stdout",
     "output_type": "stream",
     "text": [
      "sample data after 정규화>>\n",
      " 출석부 정산 화욜 오늘은 말이쥬 출석부에 어제 가리산 결산에 오늘 구름산 결산까지를올려야해서 그래서 한번에 쭈 욱 갑니다 이해좀부탁드려욥 가리산결산 명참석에 한명 현지참석 회비면제 리딩자제외 명 지출 버스비 입장료 주차료 남은 중 원을상우대장주고 뒷풀 비용중 원정도를 보태서 상우가 계산해주셨습니다 너무 많은 금액을부담시켜 미안해 상우야 남은 원 기금으로 입금합니다 구름산 결산 명참석해서 지출비만큼 적당히거출해서 차계산을 마쳤는데 다시 추가된 금액 원 총대장이계산해서 남은 금액이 없어요 ㅡㅡ 출석부연휴는 잘들 보내셨나효 어떻게 뭐함서 보내셨으효 좋은데 다녀왔음 자랑좀 해봐주세효 \n"
     ]
    }
   ],
   "source": [
    "import re\n",
    "\n",
    "asd = re.compile(\"[^ ㄱ-ㅣ가-힣+]\")\n",
    "\n",
    "for i in range(len(data_content)):\n",
    "    new_text = asd.sub(\" \", str(data_content[i]))\n",
    "    final_text = re.sub(\" +\", \" \", new_text)\n",
    "    data_content[i] = final_text\n",
    "\n",
    "print(\"sample data after 정규화>>\")\n",
    "print(data_content[0])"
   ]
  },
  {
   "cell_type": "code",
   "execution_count": 75,
   "id": "c497fb26",
   "metadata": {},
   "outputs": [
    {
     "name": "stdout",
     "output_type": "stream",
     "text": [
      "filepath:  /Users/beom/miniforge3/envs/nlp/lib/python3.9/site-packages\n",
      "classpath:  /Users/beom/miniforge3/envs/nlp/lib/python3.9/site-packages/rhinoMorph/lib/rhino.jar\n",
      "JVM is already started~\n",
      "Constructing Dictionaries...\n",
      "Current mode: python\tCurrent path: /Users/beom/miniforge3/envs/nlp/lib/python3.9/site-packages/rhinoMorph/resource/\n",
      "RHINO started!Constructing Dictionaries Completed.\n",
      "\n",
      "\n",
      "['출석부', '정산', '오늘', '말', '출석부', '어제', '가리산', '결산', '오늘', '구름산', '결산', '올리', '그래서', '욱', '가', '이해', '좀', '욥', '가리산', '결산', '명', '참석', '한', '명', '현지', '참석', '회비', '면제', '리딩', '자제', '명', '지출', '버스비', '입장료', '주차료', '남', '원', '상우', '대장', '주', '비용', '원정', '보태', '상우', '계산', '너무', '많', '금액', '부담', '미안', '상우', '남', '원', '기금', '입금', '구름산', '결산', '명', '참석', '하', '지출', '비만', '크', '적당히', '거출', '하', '차', '계산', '마치', '다시', '추가', '되', '금액', '원', '총대장', '계산', '하', '남', '금액', '없', 'ㅡㅡ', '출석부', '연휴', '잘', '보내', '효', '어떻하', '뭐', '보내', '효', '좋', '다니', '오', '자랑', '좀', '하', '봐주', '효']\n"
     ]
    }
   ],
   "source": [
    "import rhinoMorph\n",
    "rn = rhinoMorph.startRhino()\n",
    "\n",
    "morphed_data = \"\"\n",
    "for i, sentence in enumerate(data_content):\n",
    "    morphed_data = rhinoMorph.onlyMorph_list(rn, sentence,\n",
    "                                            pos=['NNG', 'NNP', 'VV', 'VA', 'XR', 'IC', 'MM', 'MAG', 'MAJ'])\n",
    "    \n",
    "    if morphed_data:\n",
    "        data_content[i] = morphed_data\n",
    "\n",
    "print(data_content[0])"
   ]
  },
  {
   "cell_type": "code",
   "execution_count": 87,
   "id": "c03ca3c7",
   "metadata": {},
   "outputs": [],
   "source": [
    "write_data(data_content, './data/mountain_morphed.txt', 'utf-8')"
   ]
  },
  {
   "cell_type": "code",
   "execution_count": 88,
   "id": "a218dc00",
   "metadata": {},
   "outputs": [],
   "source": [
    "def cntWordInLine(data, senti):\n",
    "    senti_found = []\n",
    "    \n",
    "    for one_data in data:\n",
    "        senti_temp = 0\n",
    "        \n",
    "        for senti_word in senti:\n",
    "            if senti_word[0] in one_data:\n",
    "                senti_temp += 1\n",
    "                \n",
    "        senti_found.append(senti_temp)\n",
    "    \n",
    "    return senti_found\n",
    "\n",
    "data_senti_pos_cnt = cntWordInLine(data_content, positive)\n",
    "data_senti_neg_cnt = cntWordInLine(data_content, negative)"
   ]
  },
  {
   "cell_type": "code",
   "execution_count": 90,
   "id": "90fc8769",
   "metadata": {},
   "outputs": [
    {
     "name": "stdout",
     "output_type": "stream",
     "text": [
      "[4, 9, 6, 12, 33, 5, 2, 20, 8, 2, 32, 9, 8, 1, 4, 15, 8, 4, 9, 4]\n",
      "[2, 2, 0, 16, 16, 2, 1, 33, 2, 4, 24, 5, 11, 1, 3, 9, 6, 2, 16, 0]\n"
     ]
    }
   ],
   "source": [
    "print(data_senti_pos_cnt[:20])\n",
    "print(data_senti_neg_cnt[:20])"
   ]
  },
  {
   "cell_type": "code",
   "execution_count": 91,
   "id": "d041b234",
   "metadata": {},
   "outputs": [],
   "source": [
    "import pandas as pd\n",
    "\n",
    "senti_result = pd.DataFrame({'pos': data_senti_pos_cnt, 'neg': data_senti_neg_cnt})\n",
    "senti_score = senti_result['pos'] - senti_result['neg']\n",
    "senti_result['senti_score'] = senti_score\n",
    "\n",
    "senti_result.loc[senti_result.senti_score >= 0, 'label'] = 1\n",
    "senti_result.loc[senti_result.senti_score < 0, 'label'] = 0"
   ]
  },
  {
   "cell_type": "code",
   "execution_count": 93,
   "id": "325e5ed1",
   "metadata": {},
   "outputs": [
    {
     "data": {
      "text/html": [
       "<div>\n",
       "<style scoped>\n",
       "    .dataframe tbody tr th:only-of-type {\n",
       "        vertical-align: middle;\n",
       "    }\n",
       "\n",
       "    .dataframe tbody tr th {\n",
       "        vertical-align: top;\n",
       "    }\n",
       "\n",
       "    .dataframe thead th {\n",
       "        text-align: right;\n",
       "    }\n",
       "</style>\n",
       "<table border=\"1\" class=\"dataframe\">\n",
       "  <thead>\n",
       "    <tr style=\"text-align: right;\">\n",
       "      <th></th>\n",
       "      <th>pos</th>\n",
       "      <th>neg</th>\n",
       "      <th>senti_score</th>\n",
       "      <th>label</th>\n",
       "    </tr>\n",
       "  </thead>\n",
       "  <tbody>\n",
       "    <tr>\n",
       "      <th>0</th>\n",
       "      <td>4</td>\n",
       "      <td>2</td>\n",
       "      <td>2</td>\n",
       "      <td>1.0</td>\n",
       "    </tr>\n",
       "    <tr>\n",
       "      <th>1</th>\n",
       "      <td>9</td>\n",
       "      <td>2</td>\n",
       "      <td>7</td>\n",
       "      <td>1.0</td>\n",
       "    </tr>\n",
       "    <tr>\n",
       "      <th>2</th>\n",
       "      <td>6</td>\n",
       "      <td>0</td>\n",
       "      <td>6</td>\n",
       "      <td>1.0</td>\n",
       "    </tr>\n",
       "    <tr>\n",
       "      <th>3</th>\n",
       "      <td>12</td>\n",
       "      <td>16</td>\n",
       "      <td>-4</td>\n",
       "      <td>0.0</td>\n",
       "    </tr>\n",
       "    <tr>\n",
       "      <th>4</th>\n",
       "      <td>33</td>\n",
       "      <td>16</td>\n",
       "      <td>17</td>\n",
       "      <td>1.0</td>\n",
       "    </tr>\n",
       "  </tbody>\n",
       "</table>\n",
       "</div>"
      ],
      "text/plain": [
       "   pos  neg  senti_score  label\n",
       "0    4    2            2    1.0\n",
       "1    9    2            7    1.0\n",
       "2    6    0            6    1.0\n",
       "3   12   16           -4    0.0\n",
       "4   33   16           17    1.0"
      ]
     },
     "execution_count": 93,
     "metadata": {},
     "output_type": "execute_result"
    }
   ],
   "source": [
    "senti_result.head()"
   ]
  },
  {
   "cell_type": "code",
   "execution_count": 94,
   "id": "75eb2fb2",
   "metadata": {},
   "outputs": [],
   "source": [
    "data['label'] = senti_result['label']"
   ]
  },
  {
   "cell_type": "code",
   "execution_count": 95,
   "id": "84ed3c67",
   "metadata": {},
   "outputs": [
    {
     "data": {
      "text/html": [
       "<div>\n",
       "<style scoped>\n",
       "    .dataframe tbody tr th:only-of-type {\n",
       "        vertical-align: middle;\n",
       "    }\n",
       "\n",
       "    .dataframe tbody tr th {\n",
       "        vertical-align: top;\n",
       "    }\n",
       "\n",
       "    .dataframe thead th {\n",
       "        text-align: right;\n",
       "    }\n",
       "</style>\n",
       "<table border=\"1\" class=\"dataframe\">\n",
       "  <thead>\n",
       "    <tr style=\"text-align: right;\">\n",
       "      <th></th>\n",
       "      <th>Unnamed: 0</th>\n",
       "      <th>name</th>\n",
       "      <th>date</th>\n",
       "      <th>content</th>\n",
       "      <th>label</th>\n",
       "    </tr>\n",
       "  </thead>\n",
       "  <tbody>\n",
       "    <tr>\n",
       "      <th>0</th>\n",
       "      <td>0</td>\n",
       "      <td>가리산</td>\n",
       "      <td>2022-06-06</td>\n",
       "      <td>#출석부 #정산 2022.06.07.화욜.오늘은 말이쥬~출석부에,어제 가리산 결산에...</td>\n",
       "      <td>1.0</td>\n",
       "    </tr>\n",
       "    <tr>\n",
       "      <th>1</th>\n",
       "      <td>1</td>\n",
       "      <td>가리산</td>\n",
       "      <td>2022-06-07</td>\n",
       "      <td>꿀연휴  다들 잘 보내셨죠?지난 토요일 빡센 스케줄 소화를~~~새벽6시출발 북한산 ...</td>\n",
       "      <td>1.0</td>\n",
       "    </tr>\n",
       "    <tr>\n",
       "      <th>2</th>\n",
       "      <td>2</td>\n",
       "      <td>가리산</td>\n",
       "      <td>2022-06-05</td>\n",
       "      <td>#출석부 위 세 전사님들 포스 좔좔....ㅎ 멋져!월욜자 출석부를 전날에 쓰다보니....</td>\n",
       "      <td>1.0</td>\n",
       "    </tr>\n",
       "    <tr>\n",
       "      <th>3</th>\n",
       "      <td>3</td>\n",
       "      <td>가리산</td>\n",
       "      <td>2022-06-24</td>\n",
       "      <td>9월27일ㅡ10월26일  :코카서스 지역10월26일ㅡ29일 :두바이 스탑바이우리는 ...</td>\n",
       "      <td>0.0</td>\n",
       "    </tr>\n",
       "    <tr>\n",
       "      <th>4</th>\n",
       "      <td>4</td>\n",
       "      <td>가리산</td>\n",
       "      <td>2022-05-23</td>\n",
       "      <td>6/17 밤 출발(금~토) #거제도#노자산, 가리산 종주#거제 파노라마 케이블카#우...</td>\n",
       "      <td>1.0</td>\n",
       "    </tr>\n",
       "  </tbody>\n",
       "</table>\n",
       "</div>"
      ],
      "text/plain": [
       "   Unnamed: 0 name        date  \\\n",
       "0           0  가리산  2022-06-06   \n",
       "1           1  가리산  2022-06-07   \n",
       "2           2  가리산  2022-06-05   \n",
       "3           3  가리산  2022-06-24   \n",
       "4           4  가리산  2022-05-23   \n",
       "\n",
       "                                             content  label  \n",
       "0  #출석부 #정산 2022.06.07.화욜.오늘은 말이쥬~출석부에,어제 가리산 결산에...    1.0  \n",
       "1  꿀연휴  다들 잘 보내셨죠?지난 토요일 빡센 스케줄 소화를~~~새벽6시출발 북한산 ...    1.0  \n",
       "2  #출석부 위 세 전사님들 포스 좔좔....ㅎ 멋져!월욜자 출석부를 전날에 쓰다보니....    1.0  \n",
       "3  9월27일ㅡ10월26일  :코카서스 지역10월26일ㅡ29일 :두바이 스탑바이우리는 ...    0.0  \n",
       "4  6/17 밤 출발(금~토) #거제도#노자산, 가리산 종주#거제 파노라마 케이블카#우...    1.0  "
      ]
     },
     "execution_count": 95,
     "metadata": {},
     "output_type": "execute_result"
    }
   ],
   "source": [
    "data.head()"
   ]
  },
  {
   "cell_type": "code",
   "execution_count": 96,
   "id": "247bfa06",
   "metadata": {},
   "outputs": [
    {
     "data": {
      "text/plain": [
       "Unnamed: 0     0\n",
       "name           0\n",
       "date           0\n",
       "content       19\n",
       "label          0\n",
       "dtype: int64"
      ]
     },
     "execution_count": 96,
     "metadata": {},
     "output_type": "execute_result"
    }
   ],
   "source": [
    "data.isnull().sum()"
   ]
  },
  {
   "cell_type": "code",
   "execution_count": 98,
   "id": "27e71046",
   "metadata": {},
   "outputs": [],
   "source": [
    "data.to_csv(\"./data/result_senti_anal.csv\", encoding='utf-8-sig')"
   ]
  },
  {
   "cell_type": "code",
   "execution_count": 99,
   "id": "fcf914ec",
   "metadata": {},
   "outputs": [],
   "source": [
    "senti_result.to_csv(\"./data/senti_result.csv\", encoding='utf-8-sig')"
   ]
  },
  {
   "cell_type": "code",
   "execution_count": 100,
   "id": "f97506f2",
   "metadata": {},
   "outputs": [
    {
     "name": "stdout",
     "output_type": "stream",
     "text": [
      "8511\n",
      "8511\n"
     ]
    }
   ],
   "source": [
    "print(len(data))\n",
    "print(len(senti_result))"
   ]
  },
  {
   "cell_type": "code",
   "execution_count": null,
   "id": "fbc616b5",
   "metadata": {},
   "outputs": [],
   "source": []
  }
 ],
 "metadata": {
  "kernelspec": {
   "display_name": "Python 3 (ipykernel)",
   "language": "python",
   "name": "python3"
  },
  "language_info": {
   "codemirror_mode": {
    "name": "ipython",
    "version": 3
   },
   "file_extension": ".py",
   "mimetype": "text/x-python",
   "name": "python",
   "nbconvert_exporter": "python",
   "pygments_lexer": "ipython3",
   "version": "3.9.10"
  }
 },
 "nbformat": 4,
 "nbformat_minor": 5
}
